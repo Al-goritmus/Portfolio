{
  "nbformat": 4,
  "nbformat_minor": 0,
  "metadata": {
    "colab": {
      "provenance": [],
      "toc_visible": true,
      "include_colab_link": true
    },
    "kernelspec": {
      "name": "python3",
      "display_name": "Python 3"
    },
    "language_info": {
      "name": "python"
    }
  },
  "cells": [
    {
      "cell_type": "markdown",
      "metadata": {
        "id": "view-in-github",
        "colab_type": "text"
      },
      "source": [
        "<a href=\"https://colab.research.google.com/github/Al-goritmus/Portfolio/blob/master/EDA_generator_univariable.ipynb\" target=\"_parent\"><img src=\"https://colab.research.google.com/assets/colab-badge.svg\" alt=\"Open In Colab\"/></a>"
      ]
    },
    {
      "cell_type": "markdown",
      "source": [
        "# parameters"
      ],
      "metadata": {
        "id": "23LrMA9yphmc"
      }
    },
    {
      "cell_type": "markdown",
      "source": [
        "# Install and imports"
      ],
      "metadata": {
        "id": "tJjfCShTGQJn"
      }
    },
    {
      "cell_type": "code",
      "source": [
        "!pip install sweetviz"
      ],
      "metadata": {
        "colab": {
          "base_uri": "https://localhost:8080/"
        },
        "id": "GPOJhzewQsi4",
        "outputId": "c7c13b6e-1934-4964-97fe-fb4d2f9f6c19"
      },
      "execution_count": null,
      "outputs": [
        {
          "output_type": "stream",
          "name": "stdout",
          "text": [
            "Looking in indexes: https://pypi.org/simple, https://us-python.pkg.dev/colab-wheels/public/simple/\n",
            "Requirement already satisfied: sweetviz in /usr/local/lib/python3.8/dist-packages (2.1.4)\n",
            "Requirement already satisfied: pandas!=1.0.0,!=1.0.1,!=1.0.2,>=0.25.3 in /usr/local/lib/python3.8/dist-packages (from sweetviz) (1.3.5)\n",
            "Requirement already satisfied: numpy>=1.16.0 in /usr/local/lib/python3.8/dist-packages (from sweetviz) (1.21.6)\n",
            "Requirement already satisfied: matplotlib>=3.1.3 in /usr/local/lib/python3.8/dist-packages (from sweetviz) (3.2.2)\n",
            "Requirement already satisfied: jinja2>=2.11.1 in /usr/local/lib/python3.8/dist-packages (from sweetviz) (2.11.3)\n",
            "Requirement already satisfied: scipy>=1.3.2 in /usr/local/lib/python3.8/dist-packages (from sweetviz) (1.7.3)\n",
            "Requirement already satisfied: importlib-resources>=1.2.0 in /usr/local/lib/python3.8/dist-packages (from sweetviz) (5.10.2)\n",
            "Requirement already satisfied: tqdm>=4.43.0 in /usr/local/lib/python3.8/dist-packages (from sweetviz) (4.64.1)\n",
            "Requirement already satisfied: zipp>=3.1.0 in /usr/local/lib/python3.8/dist-packages (from importlib-resources>=1.2.0->sweetviz) (3.12.1)\n",
            "Requirement already satisfied: MarkupSafe>=0.23 in /usr/local/lib/python3.8/dist-packages (from jinja2>=2.11.1->sweetviz) (2.0.1)\n",
            "Requirement already satisfied: kiwisolver>=1.0.1 in /usr/local/lib/python3.8/dist-packages (from matplotlib>=3.1.3->sweetviz) (1.4.4)\n",
            "Requirement already satisfied: pyparsing!=2.0.4,!=2.1.2,!=2.1.6,>=2.0.1 in /usr/local/lib/python3.8/dist-packages (from matplotlib>=3.1.3->sweetviz) (3.0.9)\n",
            "Requirement already satisfied: cycler>=0.10 in /usr/local/lib/python3.8/dist-packages (from matplotlib>=3.1.3->sweetviz) (0.11.0)\n",
            "Requirement already satisfied: python-dateutil>=2.1 in /usr/local/lib/python3.8/dist-packages (from matplotlib>=3.1.3->sweetviz) (2.8.2)\n",
            "Requirement already satisfied: pytz>=2017.3 in /usr/local/lib/python3.8/dist-packages (from pandas!=1.0.0,!=1.0.1,!=1.0.2,>=0.25.3->sweetviz) (2022.7.1)\n",
            "Requirement already satisfied: six>=1.5 in /usr/local/lib/python3.8/dist-packages (from python-dateutil>=2.1->matplotlib>=3.1.3->sweetviz) (1.15.0)\n"
          ]
        }
      ]
    },
    {
      "cell_type": "code",
      "source": [
        "!pip install pyodbc\n",
        "!curl https://packages.microsoft.com/keys/microsoft.asc | apt-key add -\n",
        "!curl https://packages.microsoft.com/config/ubuntu/16.04/prod.list > /etc/apt/sources.list.d/mssql-release.list\n",
        "!sudo apt-get update\n",
        "!sudo ACCEPT_EULA=Y apt-get -q -y install msodbcsql17"
      ],
      "metadata": {
        "colab": {
          "base_uri": "https://localhost:8080/"
        },
        "id": "t-wAsECLgw-y",
        "outputId": "3fff26d8-5022-4852-ce2e-6c706a1c48b0"
      },
      "execution_count": null,
      "outputs": [
        {
          "output_type": "stream",
          "name": "stdout",
          "text": [
            "Looking in indexes: https://pypi.org/simple, https://us-python.pkg.dev/colab-wheels/public/simple/\n",
            "Requirement already satisfied: pyodbc in /usr/local/lib/python3.8/dist-packages (4.0.35)\n",
            "  % Total    % Received % Xferd  Average Speed   Time    Time     Time  Current\n",
            "                                 Dload  Upload   Total   Spent    Left  Speed\n",
            "100   983  100   983    0     0  12602      0 --:--:-- --:--:-- --:--:-- 12766\n",
            "OK\n",
            "  % Total    % Received % Xferd  Average Speed   Time    Time     Time  Current\n",
            "                                 Dload  Upload   Total   Spent    Left  Speed\n",
            "100    79  100    79    0     0   2194      0 --:--:-- --:--:-- --:--:--  2194\n",
            "Hit:1 http://archive.ubuntu.com/ubuntu focal InRelease\n",
            "Hit:2 https://cloud.r-project.org/bin/linux/ubuntu focal-cran40/ InRelease\n",
            "Hit:3 https://packages.microsoft.com/ubuntu/16.04/prod xenial InRelease\n",
            "Hit:4 http://archive.ubuntu.com/ubuntu focal-updates InRelease\n",
            "Hit:5 http://archive.ubuntu.com/ubuntu focal-backports InRelease\n",
            "Hit:6 http://security.ubuntu.com/ubuntu focal-security InRelease\n",
            "Ign:7 https://developer.download.nvidia.com/compute/machine-learning/repos/ubuntu2004/x86_64  InRelease\n",
            "Hit:8 https://developer.download.nvidia.com/compute/cuda/repos/ubuntu2004/x86_64  InRelease\n",
            "Hit:9 https://developer.download.nvidia.com/compute/machine-learning/repos/ubuntu2004/x86_64  Release\n",
            "Hit:10 http://ppa.launchpad.net/c2d4u.team/c2d4u4.0+/ubuntu focal InRelease\n",
            "Hit:11 http://ppa.launchpad.net/cran/libgit2/ubuntu focal InRelease\n",
            "Hit:12 http://ppa.launchpad.net/deadsnakes/ppa/ubuntu focal InRelease\n",
            "Hit:13 http://ppa.launchpad.net/graphics-drivers/ppa/ubuntu focal InRelease\n",
            "Hit:14 http://ppa.launchpad.net/ubuntugis/ppa/ubuntu focal InRelease\n",
            "Reading package lists... Done\n",
            "Reading package lists...\n",
            "Building dependency tree...\n",
            "Reading state information...\n",
            "Some packages could not be installed. This may mean that you have\n",
            "requested an impossible situation or if you are using the unstable\n",
            "distribution that some required packages have not yet been created\n",
            "or been moved out of Incoming.\n",
            "The following information may help to resolve the situation:\n",
            "\n",
            "The following packages have unmet dependencies:\n",
            " msodbcsql17 : Depends: unixodbc (>= 2.3.1) but it is not going to be installed\n",
            "E: Unable to correct problems, you have held broken packages.\n"
          ]
        }
      ]
    },
    {
      "cell_type": "code",
      "source": [
        "import psycopg2"
      ],
      "metadata": {
        "id": "p9u-WXH_h7bM"
      },
      "execution_count": null,
      "outputs": []
    },
    {
      "cell_type": "code",
      "execution_count": null,
      "metadata": {
        "id": "_y3pNujylxlL"
      },
      "outputs": [],
      "source": [
        "import pandas as pd\n",
        "import numpy as np\n",
        "import uuid\n",
        "import matplotlib.pyplot     as plt\n",
        "import matplotlib.patches    as mpatches\n",
        "import seaborn               as sns\n",
        "import sklearn.metrics       as Metrics\n",
        "import json\n",
        "from subprocess import run\n",
        "sns.set(style=\"whitegrid\")\n",
        "import sweetviz as sv"
      ]
    },
    {
      "cell_type": "code",
      "source": [
        "from google.colab import drive\n",
        "drive.mount('/content/drive')"
      ],
      "metadata": {
        "id": "8Ij7CP84mQsu",
        "colab": {
          "base_uri": "https://localhost:8080/"
        },
        "outputId": "b2d12e81-f931-4a8f-ff80-e0dcb7816dc6"
      },
      "execution_count": null,
      "outputs": [
        {
          "output_type": "stream",
          "name": "stdout",
          "text": [
            "Drive already mounted at /content/drive; to attempt to forcibly remount, call drive.mount(\"/content/drive\", force_remount=True).\n"
          ]
        }
      ]
    },
    {
      "cell_type": "markdown",
      "source": [
        "# Set DB Conn\n"
      ],
      "metadata": {
        "id": "VovB-Etfg5zq"
      }
    },
    {
      "cell_type": "code",
      "source": [
        "# query = 'SELECT id, user_agent, ip_address, username, http_accept, path_info, attempt_time, logout_time FROM public.axes_accesslog;'"
      ],
      "metadata": {
        "id": "dfCAwWkohUdC"
      },
      "execution_count": null,
      "outputs": []
    },
    {
      "cell_type": "code",
      "source": [
        "# query = open(f'{path_dir}{f}').read()\n",
        "# query = open(f'/content/drive/MyDrive/projects/Mullen/EDA automation/EDA Automation SQL/sources/los que faltan/axes_acceslog.txt').read()"
      ],
      "metadata": {
        "id": "dEYSwXHpZdTI"
      },
      "execution_count": null,
      "outputs": []
    },
    {
      "cell_type": "code",
      "source": [
        "# df_prods_orig = pd.read_sql_query(query, psy_conn)"
      ],
      "metadata": {
        "id": "bCRWO7azhQqy"
      },
      "execution_count": null,
      "outputs": []
    },
    {
      "cell_type": "code",
      "source": [
        "# df_prods_orig"
      ],
      "metadata": {
        "id": "50wGG_ffjMFn"
      },
      "execution_count": null,
      "outputs": []
    },
    {
      "cell_type": "markdown",
      "source": [
        "# Get files in folder"
      ],
      "metadata": {
        "id": "XmlYW3k-uQpt"
      }
    },
    {
      "cell_type": "code",
      "source": [
        "path_dir = '/content/drive/MyDrive/Datos GRAM-IA.APLICADA/'\n",
        "# /content/drive/MyDrive/projects/Mullen/EDA automation/EDA Automation csv/source"
      ],
      "metadata": {
        "id": "wFEBmMC5rx7_"
      },
      "execution_count": null,
      "outputs": []
    },
    {
      "cell_type": "code",
      "source": [
        "from google.colab import drive\n",
        "drive.mount('/content/drive')"
      ],
      "metadata": {
        "colab": {
          "base_uri": "https://localhost:8080/"
        },
        "outputId": "13f8d027-fd0b-4a98-f825-afd4b45abe0a",
        "id": "Gvamtp7uEN8d"
      },
      "execution_count": null,
      "outputs": [
        {
          "output_type": "stream",
          "name": "stdout",
          "text": [
            "Drive already mounted at /content/drive; to attempt to forcibly remount, call drive.mount(\"/content/drive\", force_remount=True).\n"
          ]
        }
      ]
    },
    {
      "cell_type": "code",
      "source": [
        "cmd = [ 'ls', path_dir]"
      ],
      "metadata": {
        "id": "RNsDQGstsSmA"
      },
      "execution_count": null,
      "outputs": []
    },
    {
      "cell_type": "code",
      "source": [
        "output = run(cmd, capture_output=True).stdout"
      ],
      "metadata": {
        "id": "AqjZvue8saP5"
      },
      "execution_count": null,
      "outputs": []
    },
    {
      "cell_type": "code",
      "source": [
        "files_name = output.decode('utf-8').split('\\n')\n",
        "files_name \n"
      ],
      "metadata": {
        "colab": {
          "base_uri": "https://localhost:8080/"
        },
        "id": "7AxxgADusbpU",
        "outputId": "83c831da-f23f-4779-fedf-6f7e37459704"
      },
      "execution_count": null,
      "outputs": [
        {
          "output_type": "execute_result",
          "data": {
            "text/plain": [
              "['BASE-DATOS-CALDAS-PILOTO-TB-WGS.xlsx',\n",
              " 'EDA_generator_univariable_Men2a.ipynb',\n",
              " '']"
            ]
          },
          "metadata": {},
          "execution_count": 20
        }
      ]
    },
    {
      "cell_type": "code",
      "source": [
        "# file_test = '/content/drive/MyDrive/projects/Mullen/EDA automation/EDA Automation SQL/sources/location_locationgallery.txt'"
      ],
      "metadata": {
        "id": "CvewAnlMfNR9"
      },
      "execution_count": null,
      "outputs": []
    },
    {
      "cell_type": "code",
      "source": [
        "# # Test\n",
        "# with open(file_test) as f:\n",
        "#     print(f.read())\n"
      ],
      "metadata": {
        "id": "bXM9RN6xd9wz"
      },
      "execution_count": null,
      "outputs": []
    },
    {
      "cell_type": "code",
      "source": [
        "# query = open(file_test).read()"
      ],
      "metadata": {
        "id": "_lQeN9oTkLjD"
      },
      "execution_count": null,
      "outputs": []
    },
    {
      "cell_type": "code",
      "source": [
        "def conditions_for_reading(filename):\n",
        "\n",
        "  filename = filename.lower()\n",
        "\n",
        "  return (filename.endswith('.xlsx') | \n",
        "          filename.endswith('.csv') |\n",
        "          filename.endswith('.txt') |\n",
        "          filename.endswith('.sql'))"
      ],
      "metadata": {
        "id": "u3Udc9iMq5Rf"
      },
      "execution_count": null,
      "outputs": []
    },
    {
      "cell_type": "code",
      "source": [
        "files_name = [file for file in files_name if conditions_for_reading(file)]\n",
        "files_name"
      ],
      "metadata": {
        "colab": {
          "base_uri": "https://localhost:8080/"
        },
        "id": "jW8vAYpfqauN",
        "outputId": "dd286242-ad86-4407-bf0f-697e38e73967"
      },
      "execution_count": null,
      "outputs": [
        {
          "output_type": "execute_result",
          "data": {
            "text/plain": [
              "['BASE-DATOS-CALDAS-PILOTO-TB-WGS.xlsx']"
            ]
          },
          "metadata": {},
          "execution_count": 25
        }
      ]
    },
    {
      "cell_type": "markdown",
      "source": [
        "# Functions\n",
        "\n"
      ],
      "metadata": {
        "id": "FHfrOWfnusjE"
      }
    },
    {
      "cell_type": "code",
      "source": [
        "def normalize_str_categorical(df_serie,func_type='upper'):\n",
        "  if func_type == 'upper':\n",
        "    return df_serie.str.upper().str.strip()\n",
        "  elif func_type == 'lower':\n",
        "    return df_serie.str.lower().str.strip()\n",
        "def remove_accents_cols(df_cols):\n",
        "    return df_cols.str.replace('ñ','ni').str.normalize('NFKD').str.encode('ascii', errors='ignore').str.decode('utf-8')\n",
        "\n",
        "def remove_special_chars(df_cols):\n",
        "    return df_cols.str.replace(r'[$@&/.:-]',' ', regex=True)\n",
        "def regular_camel_case(snake_str):\n",
        "    components = snake_str.split('_')\n",
        "    return components[0] + ''.join(x.title() for x in components[1:])\n",
        "def regular_snake_case(df_cols):\n",
        "    cols = df_cols.str.replace('ñ','ni')\n",
        "    cols = cols.str.lower().str.replace('/',' ').str.replace('.',' ').str.strip()\n",
        "    cols = cols.str.replace(r'\\s+',' ',regex=True)\n",
        "    cols = cols.str.replace(' ','_')\n",
        "    return cols"
      ],
      "metadata": {
        "id": "JrHyP_K7upMF"
      },
      "execution_count": null,
      "outputs": []
    },
    {
      "cell_type": "code",
      "source": [
        "def create_markdown_cell(src_list):\n",
        "\n",
        "  cell = {\n",
        "      \"cell_type\": \"markdown\",\n",
        "      \"source\": src_list,\n",
        "      \"metadata\": {\n",
        "        \"id\": f\"{uuid.uuid4()}\"\n",
        "      }\n",
        "  }\n",
        "\n",
        "  return cell"
      ],
      "metadata": {
        "id": "MJhJxC4p9Vhc"
      },
      "execution_count": null,
      "outputs": []
    },
    {
      "cell_type": "code",
      "source": [
        "def create_code_cells(src_list):\n",
        "  \n",
        "  cell = {\"cell_type\": \"code\",\n",
        "      \"execution_count\": 'null',\n",
        "      \"metadata\": {\n",
        "        \"id\": f\"{uuid.uuid4()}\"\n",
        "      },\n",
        "      \"outputs\": [],\n",
        "      \"source\":src_list}\n",
        "\n",
        "  return cell"
      ],
      "metadata": {
        "id": "eEDETQzLzMOC"
      },
      "execution_count": null,
      "outputs": []
    },
    {
      "cell_type": "code",
      "source": [
        "def create_notebook_text(cells):\n",
        "\n",
        "  json_cells = json.dumps(cells)\n",
        "\n",
        "  str_notebook = f'''{{\n",
        "  \"nbformat\": 4,\n",
        "  \"nbformat_minor\": 0,\n",
        "  \"metadata\": {{\n",
        "    \"colab\": {{\n",
        "      \"provenance\": []\n",
        "    }},\n",
        "    \"kernelspec\": {{\n",
        "      \"name\": \"python3\",\n",
        "      \"display_name\": \"Python 3\"\n",
        "    }},\n",
        "    \"language_info\": {{\n",
        "      \"name\": \"python\"\n",
        "    }}\n",
        "  }},\n",
        "  \"cells\": {json_cells}\n",
        "}}\n",
        "'''\n",
        "\n",
        "  return str_notebook"
      ],
      "metadata": {
        "id": "j3xJtTnj7zNk"
      },
      "execution_count": null,
      "outputs": []
    },
    {
      "cell_type": "code",
      "source": [
        "def add_import_cells():\n",
        "\n",
        "  return [\n",
        "      {\n",
        "          \"cell_type\": \"markdown\",\n",
        "          \"source\": [\n",
        "              \"# Import libraries\"\n",
        "          ],\n",
        "          \"metadata\": {\n",
        "            \"id\": f\"{uuid.uuid4()}\"\n",
        "          }\n",
        "      },\n",
        "      {\n",
        "          \"cell_type\": \"code\",\n",
        "          \"execution_count\": 'null',\n",
        "          \"metadata\": {\n",
        "            \"id\": f\"{uuid.uuid4()}\"\n",
        "          },\n",
        "          \"outputs\": [],\n",
        "          \"source\": [\n",
        "            \"!pip install sweetviz\\n\",\n",
        "          ]\n",
        "      },\n",
        "      {\n",
        "          \"cell_type\": \"code\",\n",
        "          \"execution_count\": 'null',\n",
        "          \"metadata\": {\n",
        "            \"id\": f\"{uuid.uuid4()}\"\n",
        "          },\n",
        "          \"outputs\": [],\n",
        "          \"source\": [\n",
        "            \"import pandas as pd\\n\",\n",
        "            \"import psycopg2\\n\",\n",
        "            \"import numpy as np\\n\",\n",
        "            \"import matplotlib.pyplot     as plt\\n\",\n",
        "            \"import matplotlib.patches    as mpatches\\n\",\n",
        "            \"import seaborn               as sns\\n\",\n",
        "            \"import sweetviz as sv\\n\",\n",
        "            \"import sklearn.metrics       as Metrics\\n\",\n",
        "            \"from google.colab import drive\\n\",\n",
        "            \"from pandas_profiling import ProfileReport\\n\",\n",
        "            \"%matplotlib inline\"\n",
        "          ]\n",
        "      }\n",
        "   ]"
      ],
      "metadata": {
        "id": "xl3MQS_loNR-"
      },
      "execution_count": null,
      "outputs": []
    },
    {
      "cell_type": "code",
      "source": [
        "def add_db_config(cells):\n",
        "\n",
        "  return cells + [\n",
        "      {\n",
        "          \"cell_type\": \"markdown\",\n",
        "          \"source\": [\n",
        "              \"# Set DB Conn\"\n",
        "          ],\n",
        "          \"metadata\": {\n",
        "            \"id\": f\"{uuid.uuid4()}\"\n",
        "          }\n",
        "      },\n",
        "      {\n",
        "          \"cell_type\": \"code\",\n",
        "          \"execution_count\": 'null',\n",
        "          \"metadata\": {\n",
        "            \"id\": f\"{uuid.uuid4()}\"\n",
        "          },\n",
        "          \"outputs\": [],\n",
        "          \"source\": [\n",
        "            \"DB_params = {\\n\",\n",
        "            f\"\\t'host':'{DB_params['host']}',\\n\",\n",
        "            f\"\\t'port':{DB_params['port']},\\n\",\n",
        "            f\"\\t'database':'{DB_params['database']}',\\n\",\n",
        "            f\"\\t'user':'{DB_params['user']}',\\n\",\n",
        "            f\"\\t'password':'{DB_params['password']}',\\n\",\n",
        "            \"}\"\n",
        "          ]\n",
        "      }\n",
        "   ]"
      ],
      "metadata": {
        "id": "cWeZ2EaYl3f6"
      },
      "execution_count": null,
      "outputs": []
    },
    {
      "cell_type": "code",
      "source": [
        "def add_read_from_db(cells, query):\n",
        "  return cells + [\n",
        "      {\n",
        "          \"cell_type\": \"markdown\",\n",
        "          \"source\": [\n",
        "              \"# Read data from DB\"\n",
        "          ],\n",
        "          \"metadata\": {\n",
        "            \"id\": f\"{uuid.uuid4()}\"\n",
        "          }\n",
        "      },\n",
        "      {\n",
        "          \"cell_type\": \"code\",\n",
        "          \"execution_count\": 'null',\n",
        "          \"metadata\": {\n",
        "            \"id\": f\"{uuid.uuid4()}\"\n",
        "          },\n",
        "          \"outputs\": [],\n",
        "          \"source\": [\n",
        "            \"psy_conn = psycopg2.connect(**DB_params)\"\n",
        "          ]\n",
        "      },\n",
        "      {\n",
        "          \"cell_type\": \"code\",\n",
        "          \"execution_count\": 'null',\n",
        "          \"metadata\": {\n",
        "            \"id\": f\"{uuid.uuid4()}\"\n",
        "          },\n",
        "          \"outputs\": [],\n",
        "          \"source\": [\n",
        "            f\"query = '{query}'\"\n",
        "          ]\n",
        "      },\n",
        "      {\n",
        "          \"cell_type\": \"code\",\n",
        "          \"execution_count\": 'null',\n",
        "          \"metadata\": {\n",
        "            \"id\": f\"{uuid.uuid4()}\"\n",
        "          },\n",
        "          \"outputs\": [],\n",
        "          \"source\": [\n",
        "            \"df = pd.read_sql_query(query, psy_conn)\"\n",
        "          ]\n",
        "      },\n",
        "      {\n",
        "          \"cell_type\": \"code\",\n",
        "          \"execution_count\": 'null',\n",
        "          \"metadata\": {\n",
        "            \"id\": f\"{uuid.uuid4()}\"\n",
        "          },\n",
        "          \"outputs\": [],\n",
        "          \"source\": [\n",
        "            f\"df\"\n",
        "          ]\n",
        "      }\n",
        "   ]"
      ],
      "metadata": {
        "id": "z_0rC9C7tEP9"
      },
      "execution_count": null,
      "outputs": []
    },
    {
      "cell_type": "code",
      "source": [
        "def add_readfile_cells(cells, path_dirname,filename,sheet):\n",
        "  \n",
        "  isExcel = filename.endswith('xlsx')\n",
        "\n",
        "  return cells + [\n",
        "      {\n",
        "          \"cell_type\": \"markdown\",\n",
        "          \"source\": [\n",
        "              \"# Read file\"\n",
        "          ],\n",
        "          \"metadata\": {\n",
        "            \"id\": f\"{uuid.uuid4()}\"\n",
        "          }\n",
        "      },\n",
        "      {\n",
        "          \"cell_type\": \"code\",\n",
        "          \"execution_count\": 'null',\n",
        "          \"metadata\": {\n",
        "            \"id\": f\"{uuid.uuid4()}\"\n",
        "          },\n",
        "          \"outputs\": [],\n",
        "          \"source\": [\n",
        "            \"drive.mount('/content/drive')\\n\"\n",
        "          ]\n",
        "      },\n",
        "      {\n",
        "          \"cell_type\": \"code\",\n",
        "          \"execution_count\": 'null',\n",
        "          \"metadata\": {\n",
        "            \"id\": f\"{uuid.uuid4()}\"\n",
        "          },\n",
        "          \"outputs\": [],\n",
        "          \"source\": [\n",
        "            f\"path_dir = '{path_dirname}'\\n\",\n",
        "            f\"filename = '{filename}'\\n\",\n",
        "            f\"sheet = '{sheet}'\\n\" if isExcel else ''\n",
        "          ]\n",
        "      },\n",
        "      {\n",
        "          \"cell_type\": \"code\",\n",
        "          \"execution_count\": 'null',\n",
        "          \"metadata\": {\n",
        "            \"id\": f\"{uuid.uuid4()}\"\n",
        "          },\n",
        "          \"outputs\": [],\n",
        "          \"source\": [\n",
        "            \"df = pd.read_excel(f'{path_dir}{filename}', sheet_name=sheet, header=0)\" if isExcel else \"df = pd.read_csv(f'{path_dir}{filename}')\"\n",
        "          ]\n",
        "      },\n",
        "      {\n",
        "          \"cell_type\": \"code\",\n",
        "          \"execution_count\": 'null',\n",
        "          \"metadata\": {\n",
        "            \"id\": f\"{uuid.uuid4()}\"\n",
        "          },\n",
        "          \"outputs\": [],\n",
        "          \"source\": [\n",
        "            f\"df\"\n",
        "          ]\n",
        "      }\n",
        "   ]"
      ],
      "metadata": {
        "id": "D0h9uzVeyXbn"
      },
      "execution_count": null,
      "outputs": []
    },
    {
      "cell_type": "code",
      "source": [
        "def add_normalize_cols_cells(cells):\n",
        "\n",
        "  return cells + [\n",
        "      {\n",
        "          \"cell_type\": \"markdown\",\n",
        "          \"source\": [\n",
        "              \"# Normalize_cols\"\n",
        "          ],\n",
        "          \"metadata\": {\n",
        "            \"id\": f\"{uuid.uuid4()}\"\n",
        "          }\n",
        "      },\n",
        "      {\n",
        "          \"cell_type\": \"code\",\n",
        "          \"execution_count\": 'null',\n",
        "          \"metadata\": {\n",
        "            \"id\": f\"{uuid.uuid4()}\"\n",
        "          },\n",
        "          \"outputs\": [],\n",
        "          \"source\": [\n",
        "          \"def remove_accents_cols(df_cols):\\n\"\n",
        "          \"    return df_cols.str.replace('ñ','ni').str.normalize('NFKD').str.encode('ascii', errors='ignore').str.decode('utf-8')\\n\",\n",
        "          \"def remove_special_chars(df_cols):\\n\"\n",
        "          \"    return df_cols.str.replace(r'[$@&/.:-]',' ', regex=True)\\n\",\n",
        "          \"def regular_camel_case(snake_str):\\n\"\n",
        "          \"    components = snake_str.split('_')\\n\"\n",
        "          \"    return components[0] + ''.join(x.title() for x in components[1:])\\n\",\n",
        "          \"def regular_snake_case(df_cols):\\n\"\n",
        "          \"    cols = df_cols.str.replace('ñ','ni')\\n\"\n",
        "          \"    cols = cols.str.lower().str.replace('/',' ').str.replace('.',' ').str.strip()\\n\"\n",
        "          \"    cols = cols.str.replace(r'\\s+',' ',regex=True)\\n\"\n",
        "          \"    cols = cols.str.replace(' ','_')\\n\"\n",
        "          \"    return cols\"\n",
        "          ]\n",
        "      },\n",
        "      {\n",
        "          \"cell_type\": \"code\",\n",
        "          \"execution_count\": 'null',\n",
        "          \"metadata\": {\n",
        "            \"id\": f\"{uuid.uuid4()}\"\n",
        "          },\n",
        "          \"outputs\": [],\n",
        "          \"source\": [\n",
        "              \"df.columns = remove_accents_cols(df.columns)\\n\",\n",
        "              \"df.columns = remove_special_chars(df.columns)\\n\",\n",
        "              \"df.columns = regular_snake_case(df.columns)\"\n",
        "          ]\n",
        "      },\n",
        "      {\n",
        "          \"cell_type\": \"code\",\n",
        "          \"execution_count\": 'null',\n",
        "          \"metadata\": {\n",
        "            \"id\": f\"{uuid.uuid4()}\"\n",
        "          },\n",
        "          \"outputs\": [],\n",
        "          \"source\": [\n",
        "            f\"df\"\n",
        "          ]\n",
        "      }]"
      ],
      "metadata": {
        "id": "QObKJn6LKbu-"
      },
      "execution_count": null,
      "outputs": []
    },
    {
      "cell_type": "code",
      "source": [
        "def add_general_stats_cells(cells):\n",
        "  return cells + [\n",
        "      {\n",
        "          \"cell_type\": \"markdown\",\n",
        "          \"source\": [\n",
        "              \"# General stats cells\"\n",
        "          ],\n",
        "          \"metadata\": {\n",
        "            \"id\": f\"{uuid.uuid4()}\"\n",
        "          }\n",
        "      },\n",
        "      {\n",
        "          \"cell_type\": \"code\",\n",
        "          \"execution_count\": 'null',\n",
        "          \"metadata\": {\n",
        "            \"id\": f\"{uuid.uuid4()}\"\n",
        "          },\n",
        "          \"outputs\": [],\n",
        "          \"source\": [\"df.describe()\",\n",
        "          ]\n",
        "      },\n",
        "      {\n",
        "          \"cell_type\": \"code\",\n",
        "          \"execution_count\": 'null',\n",
        "          \"metadata\": {\n",
        "            \"id\": f\"{uuid.uuid4()}\"\n",
        "          },\n",
        "          \"outputs\": [],\n",
        "          \"source\": [\"df.dtypes\\n\"\n",
        "          ]\n",
        "      },\n",
        "      {\n",
        "          \"cell_type\": \"code\",\n",
        "          \"execution_count\": 'null',\n",
        "          \"metadata\": {\n",
        "            \"id\": f\"{uuid.uuid4()}\"\n",
        "          },\n",
        "          \"outputs\": [],\n",
        "          \"source\": [\n",
        "            \"df.info()\"\n",
        "          ]\n",
        "      },\n",
        "      {\n",
        "          \"cell_type\": \"code\",\n",
        "          \"execution_count\": 'null',\n",
        "          \"metadata\": {\n",
        "            \"id\": f\"{uuid.uuid4()}\"\n",
        "          },\n",
        "          \"outputs\": [],\n",
        "          \"source\": [\n",
        "            \"print('recuento de columnas por tipo: ', df.dtypes.value_counts())\\n\",\n",
        "            \"print('sumatoria de valores nulos en el dataframe: ', df.isna().sum())\",\n",
        "          ]\n",
        "      }\n",
        "      ]"
      ],
      "metadata": {
        "id": "_5lfP2PS2_gW"
      },
      "execution_count": null,
      "outputs": []
    },
    {
      "cell_type": "code",
      "source": [
        "def add_profiling_cells(cells):\n",
        "  return cells + [\n",
        "      {\n",
        "          \"cell_type\": \"markdown\",\n",
        "          \"source\": [\n",
        "              \"# Profiling_library_install_cells\"\n",
        "          ],\n",
        "          \"metadata\": {\n",
        "            \"id\": f\"{uuid.uuid4()}\"\n",
        "          }\n",
        "      },\n",
        "      {\n",
        "          \"cell_type\": \"code\",\n",
        "          \"execution_count\": 'null',\n",
        "          \"metadata\": {\n",
        "            \"id\": f\"{uuid.uuid4()}\"\n",
        "          },\n",
        "          \"outputs\": [],\n",
        "          \"source\": ['profile = ProfileReport(df)\\n'\n",
        "              'df.profile_report()\\n',\n",
        "            'profile.to_file(\"reporte_html_para_clientes.html\")'\n",
        "          ]\n",
        "      }]"
      ],
      "metadata": {
        "id": "YalHq4HR5IOH"
      },
      "execution_count": null,
      "outputs": []
    },
    {
      "cell_type": "code",
      "source": [
        "def add_cell(cells,new_cells):\n",
        "  return cells + new_cells"
      ],
      "metadata": {
        "id": "vMfT4IbQxueS"
      },
      "execution_count": null,
      "outputs": []
    },
    {
      "cell_type": "code",
      "source": [
        "def add_sweetviz_cells(cells_p, path_dir,f,sheet):\n",
        "  return cells_p + [\n",
        "      {\n",
        "          \"cell_type\": \"markdown\",\n",
        "          \"source\": [\n",
        "              \"# Sweetviz report\"\n",
        "          ],\n",
        "          \"metadata\": {\n",
        "            \"id\": f\"{uuid.uuid4()}\"\n",
        "          }\n",
        "      },\n",
        "      {\n",
        "          \"cell_type\": \"code\",\n",
        "          \"execution_count\": 'null',\n",
        "          \"metadata\": {\n",
        "            \"id\": f\"{uuid.uuid4()}\"\n",
        "          },\n",
        "          \"outputs\": [],\n",
        "          \"source\": ['sweet_report = sv.analyze(df)\\n',\n",
        "                     f\"sweet_report.show_html(f'{{path_dir}}sw_report_{f}_{sheet}.html')\"\n",
        "          ]\n",
        "      }]\n",
        "\n",
        "  pass"
      ],
      "metadata": {
        "id": "s9veRcPz6R24"
      },
      "execution_count": null,
      "outputs": []
    },
    {
      "cell_type": "code",
      "source": [
        "def create_notebook_file(filename,str_content):\n",
        "  with open(f'{path_dir}EDA_{filename}.ipynb', 'w') as writefile:\n",
        "    writefile.write(str_content)"
      ],
      "metadata": {
        "id": "li_abcQkaHj-"
      },
      "execution_count": null,
      "outputs": []
    },
    {
      "cell_type": "code",
      "source": [
        "def object_cells(serie):\n",
        "  n_rows = serie.size\n",
        "  col = serie.name\n",
        "  # print('my col',serie.name)\n",
        "  \n",
        "  isna_val = serie.isna().sum()\n",
        "  non_null_values = n_rows - isna_val\n",
        "\n",
        "  null_nums = pd.to_numeric(serie, errors='coerce').isna().sum()\n",
        "  converted_num = n_rows - null_nums\n",
        "\n",
        "  null_dates = pd.to_datetime(serie, errors='coerce').isna().sum()\n",
        "  converted_date = n_rows - null_dates\n",
        "\n",
        "  contains_str = serie.str.contains('^[a-zA-Z]').any()\n",
        "\n",
        "  cells_c = []\n",
        "\n",
        "  # Validador de tipos de columna\n",
        "  if (converted_num == 0 and converted_date == 0) or (contains_str == True):\n",
        "    \n",
        "    cells_c = add_cell(cells_c,[create_code_cells([\n",
        "        f\"df['{col}'] = df['{col}'].astype(str)\\n\",\n",
        "        f\"df['{col}'] = df['{col}'].str.replace('.0','')\\n\",\n",
        "        f\"df['{col}'].unique()\"])\n",
        "      ])\n",
        "\n",
        "    cells_c = add_cell(cells_c,[create_code_cells([f\"df['{col}'].value_counts()\"])])\n",
        "    cells_c = add_cell(cells_c,[create_code_cells([f\"plt.figure(figsize=(10,5))\\n\",f\"df['{col}'].value_counts()[:15].plot(kind='pie')\"])])\n",
        "    cells_c = add_cell(cells_c,[create_code_cells([f\"plt.figure(figsize=(30,5))\\n\",f\"df['{col}'].value_counts()[:15].plot(kind='barh')\"])])\n",
        "\n",
        "  # TODO: Rewrite next code                              \n",
        "  elif converted_date > converted_num :\n",
        "\n",
        "    cells_c = add_cell(cells_c,[create_code_cells([f\"df['{col}'] = pd.to_datetime(df[f'{col}'], errors='coerce')\"])])\n",
        "    cells_c = add_cell(cells_c,[create_code_cells([f\"print('la columna {col} es: ',df[f'{col}'].dtype)\"])])\n",
        "\n",
        "  elif converted_num >= converted_date:\n",
        "\n",
        "    cells_c = add_cell(cells_c,[create_code_cells([f\"df['{col}'] = pd.to_numeric(df[f'{col}'], errors='coerce')\"])])\n",
        "    cells_c = add_cell(cells_c,[create_code_cells([f\"print('la media es: ',df['{col}'].mean())\"])])\n",
        "    cells_c = add_cell(cells_c,[create_code_cells([f\"print('la moda es: ',df['{col}'].mode())\"])])\n",
        "    cells_c = add_cell(cells_c,[create_code_cells([f\"print('la mediana es: ',df['{col}'].median())\"])])\n",
        "    cells_c = add_cell(cells_c,[create_code_cells([f\"print('el valor mínimo de {col} es: : ',df['{col}'].min())\"])])\n",
        "    cells_c = add_cell(cells_c,[create_code_cells([f\"print('el valor máximo de {col} es: : ',df['{col}'].max())\"])])\n",
        "    cells_c = add_cell(cells_c,[create_code_cells([f\"print('el rango de {col} es: : ',df['{col}'].max() - df['{col}'].min())\"])])\n",
        "    cells_c = add_cell(cells_c,[create_code_cells([f\"print('la desviación éstandar de {col} es: : ',df['{col}'].std())\"])])\n",
        "    cells_c = add_cell(cells_c,[create_code_cells([f\"sns.histplot(data = df,x = '{col}')\\n\", f\"plt.axvline(x=df.{col}.mean(),color='red',linestyle='dashed',linewidth=2)\"])])\n",
        "\n",
        "\n",
        "\n",
        "  return cells_c\n"
      ],
      "metadata": {
        "id": "NO_LtGbo_IIE"
      },
      "execution_count": null,
      "outputs": []
    },
    {
      "cell_type": "code",
      "source": [
        "def int_cells(serie):\n",
        "  col = serie.name\n",
        "  n_rows = serie.size\n",
        "  unique_counts = df[col].unique().sum()\n",
        "\n",
        "  cells_c = []\n",
        "\n",
        "  if unique_counts < 0.2 * n_rows:\n",
        "\n",
        "    cells_c = add_cell(cells_c,[create_code_cells([f\"df['{col}'] = df['{col}'].astype(str)\"])])\n",
        "    cells_c = add_cell(cells_c,[create_code_cells([f\"df['{col}'] = df['{col}'].str.replace('.0','')\"])])\n",
        "    cells_c = add_cell(cells_c,[create_code_cells([f\"df['{col}'].unique()\"])])\n",
        "    cells_c = add_cell(cells_c,[create_code_cells([f\"df['{col}'].value_counts()\"])])\n",
        "    cells_c = add_cell(cells_c,[create_code_cells([f\"plt.figure(figsize=(10,5))\\n\",\n",
        "                                    f\"df['{col}'].value_counts()[:15].plot(kind='pie')\"])])\n",
        "    cells_c = add_cell(cells_c,[create_code_cells([f\"plt.figure(figsize=(30,15))\\n\",\n",
        "                                    f\"df['{col}'].value_counts()[:15].plot(kind='barh')\"])])\n",
        "  else:\n",
        "\n",
        "    cells_c = add_cell(cells_c,[create_code_cells([f\"df['{col}'] = pd.to_numeric(df[f'{col}'], errors='coerce')\"])])\n",
        "    cells_c = add_cell(cells_c,[create_code_cells([f\"print('la media es: ',df['{col}'].mean())\"])])\n",
        "    cells_c = add_cell(cells_c,[create_code_cells([f\"print('la moda es: ',df['{col}'].mode())\"])])\n",
        "    cells_c = add_cell(cells_c,[create_code_cells([f\"print('la mediana es: ',df['{col}'].median())\"])])\n",
        "    cells_c = add_cell(cells_c,[create_code_cells([f\"print('el valor mínimo de {col} es: : ',df['{col}'].min())\"])])\n",
        "    cells_c = add_cell(cells_c,[create_code_cells([f\"print('el valor máximo de {col} es: : ',df['{col}'].max())\"])])\n",
        "    cells_c = add_cell(cells_c,[create_code_cells([f\"print('el rango de {col} es: : ',df['{col}'].max() - df['{col}'].min())\"])])\n",
        "    cells_c = add_cell(cells_c,[create_code_cells([f\"print('la desviación éstandar de {col} es: : ',df['{col}'].std())\"])])\n",
        "    cells_c = add_cell(cells_c,[create_code_cells([f\"sns.histplot(data = df,x = '{col}')\\n\",f\"plt.axvline(x=df['{col}'].mean(),color='red',linestyle='dashed',linewidth=2)\"])])\n",
        "\n",
        "  return cells_c"
      ],
      "metadata": {
        "id": "GNuyr7-aQXGm"
      },
      "execution_count": null,
      "outputs": []
    },
    {
      "cell_type": "code",
      "source": [
        "def float_cells(serie):\n",
        "  col = serie.name\n",
        "  cells_c = []\n",
        "\n",
        "  cells_c = add_cell(cells_c,[create_code_cells([f\"df['{col}'] = pd.to_numeric(df[f'{col}'], errors='coerce')\"])])\n",
        "  cells_c = add_cell(cells_c,[create_code_cells([f\"print('la media es: ',df['{col}'].mean())\"])])\n",
        "  cells_c = add_cell(cells_c,[create_code_cells([f\"print('la moda es: ',df['{col}'].mode())\"])])\n",
        "  cells_c = add_cell(cells_c,[create_code_cells([f\"print('la mediana es: ',df['{col}'].median())\"])])\n",
        "  cells_c = add_cell(cells_c,[create_code_cells([f\"print('el valor mínimo de {col} es: : ',df['{col}'].min())\"])])\n",
        "  cells_c = add_cell(cells_c,[create_code_cells([f\"print('el valor máximo de {col} es: : ',df['{col}'].max())\"])])\n",
        "  cells_c = add_cell(cells_c,[create_code_cells([f\"print('el rango de {col} es: : ',df['{col}'].max() - df['{col}'].min())\"])])\n",
        "  cells_c = add_cell(cells_c,[create_code_cells([f\"print('la desviación éstandar de {col} es: : ',df['{col}'].std())\"])])\n",
        "  cells_c = add_cell(cells_c,[create_code_cells([f\"sns.histplot(data = df,x = '{col}')\\n\",f\"plt.axvline(x=df['{col}'].mean(),color='red',linestyle='dashed',linewidth=2)\"])])\n",
        "  return cells_c"
      ],
      "metadata": {
        "id": "-lljPux7QdJV"
      },
      "execution_count": null,
      "outputs": []
    },
    {
      "cell_type": "code",
      "source": [
        "def datetime_cells(serie):\n",
        "  col = serie.name\n",
        "  cells_c = []\n",
        "  \n",
        "  cells_c = add_cell(cells_c,[create_code_cells([f\"df['{col}'] = pd.to_datetime(df[f'{col}'], errors='coerce')\"])])\n",
        "  cells_c = add_cell(cells_c,[create_code_cells([f\"print('la columna {col} es: ',df[f'{col}'].dtype)\"])])\n",
        "  return cells_c"
      ],
      "metadata": {
        "id": "VZrpnGmGQgyB"
      },
      "execution_count": null,
      "outputs": []
    },
    {
      "cell_type": "code",
      "source": [
        "def bool_cells(serie):\n",
        "  col = serie.name\n",
        "  cells_c = []\n",
        "\n",
        "  cells_c = add_cell(cells_c,[create_code_cells([f\"df['{col}'].unique()\"])])\n",
        "  cells_c = add_cell(cells_c,[create_code_cells([f\"df['{col}'].value_counts()\"])])\n",
        "  cells_c = add_cell(cells_c,[create_code_cells([f\"plt.figure(figsize=(10,5))\\n\",\n",
        "                                    f\"df['{col}'].value_counts()[:15].plot(kind='pie')\"])])\n",
        "  cells_c = add_cell(cells_c,[create_code_cells([f\"plt.figure(figsize=(30,15))\\n\",\n",
        "                                  f\"df['{col}'].value_counts()[:15].plot(kind='barh')\"])])\n",
        "  return cells_c"
      ],
      "metadata": {
        "id": "GyjaOOVxQhQa"
      },
      "execution_count": null,
      "outputs": []
    },
    {
      "cell_type": "code",
      "source": [
        "actions_for_dtype = {\n",
        "    'object': object_cells,\n",
        "    'int64': int_cells,\n",
        "    'float64': float_cells,\n",
        "    'datetime64[ns]': datetime_cells,\n",
        "    'bool': bool_cells\n",
        "}"
      ],
      "metadata": {
        "id": "vAEsNFlZ402G"
      },
      "execution_count": null,
      "outputs": []
    },
    {
      "cell_type": "code",
      "source": [
        "def add_columns_analysis_cells(cells_p,df_p):\n",
        "  # add lines to cell analysis\n",
        "  # new_cells = add code\n",
        "  # cells.append(create_markdown_cell([f\"## {j}\"]))\n",
        "  # cells.append(create_code_cells([f\"df['{j}'].dtype\"]))\n",
        "  new_cells = add_cell(cells_p,[create_markdown_cell([f\"# General Analyst by columns\"])])\n",
        "  for col in df_p.columns:\n",
        "    col_type = df_p[col].dtype\n",
        "    new_cells = add_cell(new_cells,[\n",
        "        create_markdown_cell([f\"## {col}\\n\",\n",
        "                              f\"type: {df_p[col].dtype}\"]),\n",
        "        # create_code_cells([f\"df_p['{col}'].dtype\"]),\n",
        "                                    ])\n",
        "    # new_cells = new_cells + actions_for_dtype[col_type] \n",
        "    # print(col,col_type)\n",
        "    new_cells = add_cell(new_cells,actions_for_dtype[f'{col_type}'](df_p[col])) \n",
        "\n",
        "  return new_cells"
      ],
      "metadata": {
        "id": "n_8uqmxj5M8V"
      },
      "execution_count": null,
      "outputs": []
    },
    {
      "cell_type": "code",
      "source": [
        "# add_cell(cells,actions_for_dtype[f\"{df['nombre1'].dtype}\"](df['nombre1'],'nombre1'))"
      ],
      "metadata": {
        "id": "bZ3aIqn_NUfQ"
      },
      "execution_count": null,
      "outputs": []
    },
    {
      "cell_type": "markdown",
      "source": [
        "# Create reports\n",
        "Ahora pongo algun texto aqui"
      ],
      "metadata": {
        "id": "Hz7IorKwirNB"
      }
    },
    {
      "cell_type": "code",
      "source": [
        "text_report_file = ''\n",
        "text_report_sheet = ''\n",
        "counter_structured_files = 0\n",
        "for f in files_name:\n",
        "  if '.xlsx' in f:\n",
        "    try:\n",
        "      xls = pd.ExcelFile(f'{path_dir}{f}')\n",
        "      counter_structured_files = counter_structured_files + 1\n",
        "      sheets = xls.sheet_names\n",
        "      cols_total = 0\n",
        "      vol_total = 0\n",
        "\n",
        "      for sheet in sheets:\n",
        "        print(f'reading {f} in sheet: {sheet}')\n",
        "        \n",
        "        # Read df from file by sheets\n",
        "        df = pd.read_excel(f'{path_dir}{f}', sheet_name=sheet, header=0)\n",
        "        #new_header = df.iloc[0] #grab the first row for the header \n",
        "        #df = df[1:] #take the data less the header row \n",
        "        #df.columns = new_header #set the header row as the df header\n",
        "\n",
        "        # Format columns\n",
        "        df.columns = remove_accents_cols(df.columns)\n",
        "        df.columns = remove_special_chars(df.columns)\n",
        "        df.columns = regular_snake_case(df.columns)\n",
        "\n",
        "        cols = len(df.columns)\n",
        "        cols_total = cols_total + cols\n",
        "        vol = df.shape[0]*df.shape[1]\n",
        "        vol_total = vol_total + vol\n",
        "        \n",
        "        text_report_sheet = text_report_sheet+f'{f}\\t{sheet}\\t{cols}\\t{df.shape}\\t{vol}\\n'\n",
        "\n",
        "        # Create cells for generated Notebook\n",
        "        cells = add_import_cells()\n",
        "        cells = add_readfile_cells(cells, path_dir,f,sheet)\n",
        "        cells = add_normalize_cols_cells(cells)\n",
        "        cells = add_general_stats_cells(cells)\n",
        "        cells = add_columns_analysis_cells(cells,df)\n",
        "        # cells = add_profiling_cells(cells)\n",
        "        cells = add_sweetviz_cells(cells, path_dir,f,sheet)\n",
        "\n",
        "        # Create Notebook .ipynb file\n",
        "        format_file_string = create_notebook_text(cells)\n",
        "        create_notebook_file(f\"{f}_{sheet}\",format_file_string)\n",
        "\n",
        "        # sweet_report = sv.analyze(df)\n",
        "        # sweet_report.show_html(f'{path_dir}{f}_sweetviz_report.html')\n",
        "\n",
        "\n",
        "        text_report_file = text_report_file+f'{f}\\t{len(sheets)}\\t{sheets}\\t{cols_total}\\t{vol_total}\\n'\n",
        "    except Exception as e:\n",
        "      print('Error reading',f)\n",
        "      print(f'Error: {e}')\n",
        "  elif '.csv' in f:\n",
        "    try:\n",
        "      df = pd.read_csv(f'{path_dir}{f}', sep=',')\n",
        "      counter_structured_files = counter_structured_files + 1\n",
        "      cols = len(df.columns)\n",
        "      cols_total = cols_total + cols\n",
        "      vol = df.shape[0]*df.shape[1]\n",
        "      vol_total = vol_total + vol\n",
        "\n",
        "      sheet = ''\n",
        "\n",
        "      # Format columns\n",
        "      df.columns = remove_accents_cols(df.columns)\n",
        "      df.columns = remove_special_chars(df.columns)\n",
        "      df.columns = regular_snake_case(df.columns)\n",
        "\n",
        "\n",
        "      text_report_sheet = text_report_sheet+f'{f}\\t1\\t{cols}\\t{df.shape}\\t{vol}\\n'\n",
        "      text_report_file = text_report_file+f'{f}\\t1\\t\\t{cols_total}\\t{vol_total}\\n'\n",
        "\n",
        "      # Create cells for generated Notebook\n",
        "      cells = add_import_cells()\n",
        "      cells = add_readfile_cells(cells, path_dir,f,sheet)\n",
        "      cells = add_normalize_cols_cells(cells)\n",
        "      cells = add_general_stats_cells(cells)\n",
        "      cells = add_columns_analysis_cells(cells,df)\n",
        "      # cells = add_profiling_cells(cells)\n",
        "      cells = add_sweetviz_cells(cells, path_dir,f,sheet)\n",
        "\n",
        "      print(f,df.columns)\n",
        "      print(cells)\n",
        "      # Create Notebook .ipynb file\n",
        "      format_file_string = create_notebook_text(cells)\n",
        "      create_notebook_file(f\"{f}_{sheet}\",format_file_string)\n",
        "    except:\n",
        "      print('error reading csv',f)\n",
        "\n",
        "  elif '.txt' in f:\n",
        "    try:\n",
        "      query = open(f'{path_dir}{f}').read()\n",
        "      df = pd.read_sql_query(query, psy_conn)\n",
        "\n",
        "      cols_total = 0\n",
        "      vol_total = 0\n",
        "      \n",
        "      # print(df.columns)\n",
        "      # Format columns\n",
        "      df.columns = remove_accents_cols(df.columns)\n",
        "      df.columns = remove_special_chars(df.columns)\n",
        "      df.columns = regular_snake_case(df.columns)\n",
        "\n",
        "      cols = len(df.columns)\n",
        "      cols_total = cols_total + cols\n",
        "      vol = df.shape[0]*df.shape[1]\n",
        "      vol_total = vol_total + vol\n",
        "      \n",
        "      # text_report_sheet = text_report_sheet+f'{f}\\t{sheet}\\t{cols}\\t{df.shape}\\t{vol}\\n'\n",
        "\n",
        "      # Create cells for generated Notebook\n",
        "      cells = add_import_cells()\n",
        "      cells = add_db_config(cells)\n",
        "      cells = add_read_from_db(cells, query)\n",
        "      cells = add_normalize_cols_cells(cells)\n",
        "      cells = add_general_stats_cells(cells)\n",
        "      cells = add_columns_analysis_cells(cells,df)\n",
        "      # cells = add_profiling_cells(cells)\n",
        "      # cells = add_sweetviz_cells(cells, path_dir,f,sheet)\n",
        "\n",
        "      # Create Notebook .ipynb file\n",
        "      format_file_string = create_notebook_text(cells)\n",
        "      create_notebook_file(f\"{f}\",format_file_string)\n",
        "\n",
        "      sweet_report = sv.analyze(df)\n",
        "      sweet_report.show_html(f'{path_dir}{f}_sweetviz_report.html')\n",
        "\n",
        "\n",
        "      # text_report_file = text_report_file+f'{f}\\t{len(sheets)}\\t{sheets}\\t{cols_total}\\t{vol_total}\\n'\n",
        "\n",
        "    except Exception as e:\n",
        "      print('error reading csv',f)\n",
        "      print(f'error: {e}')\n",
        "    # print(f'{df.shape}\\t{sheet}')\n",
        "  # print(f,len(sheets),cols_total,sheets)\n",
        "# text_report_file = text_report_file+f'{len(files_name)} files xlsx or csv'"
      ],
      "metadata": {
        "id": "fNeqEZOfuyUl",
        "colab": {
          "base_uri": "https://localhost:8080/"
        },
        "outputId": "57c2a41d-91cb-46ff-f2f7-9be82b70453c"
      },
      "execution_count": null,
      "outputs": [
        {
          "output_type": "stream",
          "name": "stdout",
          "text": [
            "reading BASE-DATOS-CALDAS-PILOTO-TB-WGS.xlsx in sheet: MUTACIONES (SNV-INDEL)\n"
          ]
        },
        {
          "output_type": "stream",
          "name": "stderr",
          "text": [
            "<ipython-input-26-ba44e556c25f>:16: FutureWarning: The default value of regex will change from True to False in a future version. In addition, single character regular expressions will *not* be treated as literal strings when regex=True.\n",
            "  cols = cols.str.lower().str.replace('/',' ').str.replace('.',' ').str.strip()\n"
          ]
        },
        {
          "output_type": "stream",
          "name": "stdout",
          "text": [
            "reading BASE-DATOS-CALDAS-PILOTO-TB-WGS.xlsx in sheet: AISLAMIENTOS\n",
            "reading BASE-DATOS-CALDAS-PILOTO-TB-WGS.xlsx in sheet: PACIENTES\n"
          ]
        }
      ]
    },
    {
      "cell_type": "code",
      "source": [
        "#with open(f'{path_dir}text_report_file.txt', 'w') as writefile:\n",
        "#    writefile.write(text_report_file)"
      ],
      "metadata": {
        "id": "iXgvsMDv4w8K"
      },
      "execution_count": null,
      "outputs": []
    },
    {
      "cell_type": "code",
      "source": [
        "with open(f'{path_dir}text_report_sheet.txt', 'w') as writefile:\n",
        "    writefile.write(text_report_sheet)"
      ],
      "metadata": {
        "id": "h1YTweeCF_Fa"
      },
      "execution_count": null,
      "outputs": []
    },
    {
      "cell_type": "markdown",
      "source": [
        "# EXPERIMENTS WHILE DEVELOPING"
      ],
      "metadata": {
        "id": "paU6B7whjFuk"
      }
    },
    {
      "cell_type": "code",
      "source": [
        "#df = pd.read_excel(f'/content/drive/MyDrive/EDA automation/example_sources/Reporte_2022-7.xlsx', sheet_name='Sheet1')"
      ],
      "metadata": {
        "id": "jgmxb7oR9CfT"
      },
      "execution_count": null,
      "outputs": []
    },
    {
      "cell_type": "code",
      "source": [
        "df"
      ],
      "metadata": {
        "id": "6FAnh_mN9KkD",
        "colab": {
          "base_uri": "https://localhost:8080/",
          "height": 49
        },
        "outputId": "ea2b7cc2-aa38-477a-ec2f-e70304c8cabe"
      },
      "execution_count": null,
      "outputs": [
        {
          "output_type": "execute_result",
          "data": {
            "text/plain": [
              "Empty DataFrame\n",
              "Columns: []\n",
              "Index: []"
            ],
            "text/html": [
              "\n",
              "  <div id=\"df-3891013c-b185-4c03-beb9-dfa924134c42\">\n",
              "    <div class=\"colab-df-container\">\n",
              "      <div>\n",
              "<style scoped>\n",
              "    .dataframe tbody tr th:only-of-type {\n",
              "        vertical-align: middle;\n",
              "    }\n",
              "\n",
              "    .dataframe tbody tr th {\n",
              "        vertical-align: top;\n",
              "    }\n",
              "\n",
              "    .dataframe thead th {\n",
              "        text-align: right;\n",
              "    }\n",
              "</style>\n",
              "<table border=\"1\" class=\"dataframe\">\n",
              "  <thead>\n",
              "    <tr style=\"text-align: right;\">\n",
              "      <th></th>\n",
              "    </tr>\n",
              "  </thead>\n",
              "  <tbody>\n",
              "  </tbody>\n",
              "</table>\n",
              "</div>\n",
              "      <button class=\"colab-df-convert\" onclick=\"convertToInteractive('df-3891013c-b185-4c03-beb9-dfa924134c42')\"\n",
              "              title=\"Convert this dataframe to an interactive table.\"\n",
              "              style=\"display:none;\">\n",
              "        \n",
              "  <svg xmlns=\"http://www.w3.org/2000/svg\" height=\"24px\"viewBox=\"0 0 24 24\"\n",
              "       width=\"24px\">\n",
              "    <path d=\"M0 0h24v24H0V0z\" fill=\"none\"/>\n",
              "    <path d=\"M18.56 5.44l.94 2.06.94-2.06 2.06-.94-2.06-.94-.94-2.06-.94 2.06-2.06.94zm-11 1L8.5 8.5l.94-2.06 2.06-.94-2.06-.94L8.5 2.5l-.94 2.06-2.06.94zm10 10l.94 2.06.94-2.06 2.06-.94-2.06-.94-.94-2.06-.94 2.06-2.06.94z\"/><path d=\"M17.41 7.96l-1.37-1.37c-.4-.4-.92-.59-1.43-.59-.52 0-1.04.2-1.43.59L10.3 9.45l-7.72 7.72c-.78.78-.78 2.05 0 2.83L4 21.41c.39.39.9.59 1.41.59.51 0 1.02-.2 1.41-.59l7.78-7.78 2.81-2.81c.8-.78.8-2.07 0-2.86zM5.41 20L4 18.59l7.72-7.72 1.47 1.35L5.41 20z\"/>\n",
              "  </svg>\n",
              "      </button>\n",
              "      \n",
              "  <style>\n",
              "    .colab-df-container {\n",
              "      display:flex;\n",
              "      flex-wrap:wrap;\n",
              "      gap: 12px;\n",
              "    }\n",
              "\n",
              "    .colab-df-convert {\n",
              "      background-color: #E8F0FE;\n",
              "      border: none;\n",
              "      border-radius: 50%;\n",
              "      cursor: pointer;\n",
              "      display: none;\n",
              "      fill: #1967D2;\n",
              "      height: 32px;\n",
              "      padding: 0 0 0 0;\n",
              "      width: 32px;\n",
              "    }\n",
              "\n",
              "    .colab-df-convert:hover {\n",
              "      background-color: #E2EBFA;\n",
              "      box-shadow: 0px 1px 2px rgba(60, 64, 67, 0.3), 0px 1px 3px 1px rgba(60, 64, 67, 0.15);\n",
              "      fill: #174EA6;\n",
              "    }\n",
              "\n",
              "    [theme=dark] .colab-df-convert {\n",
              "      background-color: #3B4455;\n",
              "      fill: #D2E3FC;\n",
              "    }\n",
              "\n",
              "    [theme=dark] .colab-df-convert:hover {\n",
              "      background-color: #434B5C;\n",
              "      box-shadow: 0px 1px 3px 1px rgba(0, 0, 0, 0.15);\n",
              "      filter: drop-shadow(0px 1px 2px rgba(0, 0, 0, 0.3));\n",
              "      fill: #FFFFFF;\n",
              "    }\n",
              "  </style>\n",
              "\n",
              "      <script>\n",
              "        const buttonEl =\n",
              "          document.querySelector('#df-3891013c-b185-4c03-beb9-dfa924134c42 button.colab-df-convert');\n",
              "        buttonEl.style.display =\n",
              "          google.colab.kernel.accessAllowed ? 'block' : 'none';\n",
              "\n",
              "        async function convertToInteractive(key) {\n",
              "          const element = document.querySelector('#df-3891013c-b185-4c03-beb9-dfa924134c42');\n",
              "          const dataTable =\n",
              "            await google.colab.kernel.invokeFunction('convertToInteractive',\n",
              "                                                     [key], {});\n",
              "          if (!dataTable) return;\n",
              "\n",
              "          const docLinkHtml = 'Like what you see? Visit the ' +\n",
              "            '<a target=\"_blank\" href=https://colab.research.google.com/notebooks/data_table.ipynb>data table notebook</a>'\n",
              "            + ' to learn more about interactive tables.';\n",
              "          element.innerHTML = '';\n",
              "          dataTable['output_type'] = 'display_data';\n",
              "          await google.colab.output.renderOutput(dataTable, element);\n",
              "          const docLink = document.createElement('div');\n",
              "          docLink.innerHTML = docLinkHtml;\n",
              "          element.appendChild(docLink);\n",
              "        }\n",
              "      </script>\n",
              "    </div>\n",
              "  </div>\n",
              "  "
            ]
          },
          "metadata": {},
          "execution_count": 52
        }
      ]
    },
    {
      "cell_type": "code",
      "source": [
        "# cells = [{\"cell_type\": \"code\",\n",
        "#       \"execution_count\": 'null',\n",
        "#       \"metadata\": {\n",
        "#         \"id\": \"_y3pNujylxlL\"\n",
        "#       },\n",
        "#       \"outputs\": [],\n",
        "#       \"source\": [\n",
        "#         \"import pandas as pd\\n\",\n",
        "#         \"import numpy as np\\n\",\n",
        "#         \"import matplotlib.pyplot     as plt\\n\",\n",
        "#         \"import matplotlib.patches    as mpatches\\n\",\n",
        "#         \"import seaborn               as sns\\n\",\n",
        "#         \"import sklearn.metrics       as Metrics\\n\",\n",
        "#         \"from subprocess import run\\n\"\n",
        "#       ]}]"
      ],
      "metadata": {
        "id": "rsUgXXpCWf4x"
      },
      "execution_count": null,
      "outputs": []
    },
    {
      "cell_type": "code",
      "source": [
        "# cells.append({\n",
        "#       \"cell_type\": \"markdown\",\n",
        "#       \"source\": [\n",
        "#         \"# section 1\"\n",
        "#       ],\n",
        "#       \"metadata\": {\n",
        "#         \"id\": \"oWrMNW1aX9VU\"\n",
        "#       }\n",
        "#     })"
      ],
      "metadata": {
        "id": "yDXNpm5HXh7U"
      },
      "execution_count": null,
      "outputs": []
    },
    {
      "cell_type": "code",
      "source": [
        "# json_string = json.dumps(cells)"
      ],
      "metadata": {
        "id": "CxCKRR57WdIi"
      },
      "execution_count": null,
      "outputs": []
    },
    {
      "cell_type": "code",
      "source": [
        "# json_string"
      ],
      "metadata": {
        "id": "F_GcVVy_XXVg"
      },
      "execution_count": null,
      "outputs": []
    },
    {
      "cell_type": "code",
      "source": [],
      "metadata": {
        "id": "-bZaE2Ln6w80"
      },
      "execution_count": null,
      "outputs": []
    },
    {
      "cell_type": "code",
      "source": [],
      "metadata": {
        "id": "T9BKk2r1Y6cV"
      },
      "execution_count": null,
      "outputs": []
    },
    {
      "cell_type": "code",
      "source": [
        "def cells_for_type():\n",
        "  return 'cells for object'\n"
      ],
      "metadata": {
        "id": "J_8si6CkCWli"
      },
      "execution_count": null,
      "outputs": []
    },
    {
      "cell_type": "code",
      "source": [
        "actions = {\n",
        "    'int': lambda x: print(x),\n",
        "    'category': lambda d_type: print(d_type),\n",
        "    'object': cells_for_type\n",
        "}"
      ],
      "metadata": {
        "id": "MeMevb-NBrZS"
      },
      "execution_count": null,
      "outputs": []
    },
    {
      "cell_type": "code",
      "source": [
        "actions['object']()"
      ],
      "metadata": {
        "id": "4lmL58cXB0yL",
        "colab": {
          "base_uri": "https://localhost:8080/",
          "height": 36
        },
        "outputId": "4674a779-ee72-4da7-bd9f-8a32efb7455e"
      },
      "execution_count": null,
      "outputs": [
        {
          "output_type": "execute_result",
          "data": {
            "text/plain": [
              "'cells for object'"
            ],
            "application/vnd.google.colaboratory.intrinsic+json": {
              "type": "string"
            }
          },
          "metadata": {},
          "execution_count": 59
        }
      ]
    },
    {
      "cell_type": "code",
      "source": [
        "ser = pd.Series([3,5,3,5])"
      ],
      "metadata": {
        "id": "TDzepx-CB3cO"
      },
      "execution_count": null,
      "outputs": []
    },
    {
      "cell_type": "code",
      "source": [
        "ser.size"
      ],
      "metadata": {
        "id": "xAtykdMAI-Nq",
        "colab": {
          "base_uri": "https://localhost:8080/"
        },
        "outputId": "69f1b80b-c7c4-43d1-adeb-b3b0bcc48d7e"
      },
      "execution_count": null,
      "outputs": [
        {
          "output_type": "execute_result",
          "data": {
            "text/plain": [
              "4"
            ]
          },
          "metadata": {},
          "execution_count": 61
        }
      ]
    },
    {
      "cell_type": "code",
      "source": [],
      "metadata": {
        "id": "IUTXaf6KJAyg"
      },
      "execution_count": null,
      "outputs": []
    }
  ]
}